{
 "cells": [
  {
   "cell_type": "markdown",
   "id": "34837026-dc07-45ca-8414-a8a2dd554c13",
   "metadata": {},
   "source": [
    "# Athena 魔法命令\n",
    "\n",
    "athena包目前支持的魔法命令有：\n",
    "\n",
    "* flink：用于加载pyflink环境\n",
    "* alink：用于加载alink环境\n",
    "\n",
    "注：**魔法命令alink与flink不能混用，因为二者的环境会互相影响。如有需要，请在不同的notebook中使用**。\n",
    "在本文档中测试，需要在切换环境时重启内核。"
   ]
  },
  {
   "cell_type": "code",
   "execution_count": 5,
   "id": "a137d1dc-f7bc-4ac9-9d10-9326ac548ddb",
   "metadata": {},
   "outputs": [],
   "source": [
    "# %load_ext athenamagics\n",
    "# 用于加载athena魔法命令扩展包，通过在ipython_config.py中配置，可以自动加载。"
   ]
  },
  {
   "cell_type": "markdown",
   "id": "235ed0f9-8716-4174-8b35-881eada15f3c",
   "metadata": {},
   "source": [
    "## 1. %%flink 魔法命令\n",
    "\n",
    "通常加载pyflink环境需要如下设置：\n",
    "```python\n",
    "from pyflink.table import *\n",
    "\n",
    "environment_settings = EnvironmentSettings.new_instance().in_batch_mode().use_blink_planner().build()\n",
    "t_env = BatchTableEnvironment.create(environment_settings=environment_settings)\n",
    "t_env.get_config().get_configuration()\n",
    ".set_string(\"parallelism.default\", \"1\")\n",
    ".set_string()\n",
    "...\n",
    "```\n",
    "\n",
    "为了方便，我们提供一个魔法`%%flink`用于代替执行上述代码，使用方式：\n",
    "```\n",
    "%flink\n",
    "\n",
    "```\n",
    "或者\n",
    "```\n",
    "%%flink\n",
    "[--env_name <bt_env_name>] default=t_env\n",
    "[--conf <key>=<value>]\n",
    "[--conf <key>=<value>]\n",
    "...\n",
    "```\n",
    "\n",
    "若无特别需要，通常不需要进行参数设置。\n",
    "**'%flink'** 即可。"
   ]
  },
  {
   "cell_type": "markdown",
   "id": "211231f8-9185-432f-81a8-06a9574a0586",
   "metadata": {},
   "source": [
    "**使用示例**"
   ]
  },
  {
   "cell_type": "code",
   "execution_count": 2,
   "id": "3aa1934c-0da9-49a1-a353-697112c54ebf",
   "metadata": {},
   "outputs": [
    {
     "data": {
      "text/html": [
       "<div>\n",
       "<style scoped>\n",
       "    .dataframe tbody tr th:only-of-type {\n",
       "        vertical-align: middle;\n",
       "    }\n",
       "\n",
       "    .dataframe tbody tr th {\n",
       "        vertical-align: top;\n",
       "    }\n",
       "\n",
       "    .dataframe thead th {\n",
       "        text-align: right;\n",
       "    }\n",
       "</style>\n",
       "<table border=\"1\" class=\"dataframe\">\n",
       "  <thead>\n",
       "    <tr style=\"text-align: right;\">\n",
       "      <th></th>\n",
       "      <th>变量名</th>\n",
       "    </tr>\n",
       "  </thead>\n",
       "  <tbody>\n",
       "    <tr>\n",
       "      <th>BatchTableEnvironment</th>\n",
       "      <td>t_env</td>\n",
       "    </tr>\n",
       "  </tbody>\n",
       "</table>\n",
       "</div>"
      ],
      "text/plain": [
       "                         变量名\n",
       "BatchTableEnvironment  t_env"
      ]
     },
     "metadata": {},
     "output_type": "display_data"
    }
   ],
   "source": [
    "%flink "
   ]
  },
  {
   "cell_type": "code",
   "execution_count": 3,
   "id": "69154128-7139-47d0-93d8-4878037ca2c1",
   "metadata": {},
   "outputs": [
    {
     "data": {
      "text/html": [
       "<div>\n",
       "<style scoped>\n",
       "    .dataframe tbody tr th:only-of-type {\n",
       "        vertical-align: middle;\n",
       "    }\n",
       "\n",
       "    .dataframe tbody tr th {\n",
       "        vertical-align: top;\n",
       "    }\n",
       "\n",
       "    .dataframe thead th {\n",
       "        text-align: right;\n",
       "    }\n",
       "</style>\n",
       "<table border=\"1\" class=\"dataframe\">\n",
       "  <thead>\n",
       "    <tr style=\"text-align: right;\">\n",
       "      <th></th>\n",
       "      <th>变量名</th>\n",
       "    </tr>\n",
       "  </thead>\n",
       "  <tbody>\n",
       "    <tr>\n",
       "      <th>BatchTableEnvironment</th>\n",
       "      <td>t_env</td>\n",
       "    </tr>\n",
       "  </tbody>\n",
       "</table>\n",
       "</div>"
      ],
      "text/plain": [
       "                         变量名\n",
       "BatchTableEnvironment  t_env"
      ]
     },
     "metadata": {},
     "output_type": "display_data"
    }
   ],
   "source": [
    "%%flink\n",
    "--env_name t_env\n",
    "--conf parallelism.default=1"
   ]
  },
  {
   "cell_type": "code",
   "execution_count": 4,
   "id": "cd8f34cf-4308-4a62-94c6-9bbe235b9c33",
   "metadata": {},
   "outputs": [
    {
     "data": {
      "text/html": [
       "<div>\n",
       "<style scoped>\n",
       "    .dataframe tbody tr th:only-of-type {\n",
       "        vertical-align: middle;\n",
       "    }\n",
       "\n",
       "    .dataframe tbody tr th {\n",
       "        vertical-align: top;\n",
       "    }\n",
       "\n",
       "    .dataframe thead th {\n",
       "        text-align: right;\n",
       "    }\n",
       "</style>\n",
       "<table border=\"1\" class=\"dataframe\">\n",
       "  <thead>\n",
       "    <tr style=\"text-align: right;\">\n",
       "      <th></th>\n",
       "      <th>id</th>\n",
       "      <th>data</th>\n",
       "    </tr>\n",
       "  </thead>\n",
       "  <tbody>\n",
       "    <tr>\n",
       "      <th>0</th>\n",
       "      <td>1</td>\n",
       "      <td>2</td>\n",
       "    </tr>\n",
       "    <tr>\n",
       "      <th>1</th>\n",
       "      <td>2</td>\n",
       "      <td>3</td>\n",
       "    </tr>\n",
       "    <tr>\n",
       "      <th>2</th>\n",
       "      <td>3</td>\n",
       "      <td>4</td>\n",
       "    </tr>\n",
       "  </tbody>\n",
       "</table>\n",
       "</div>"
      ],
      "text/plain": [
       "   id  data\n",
       "0   1     2\n",
       "1   2     3\n",
       "2   3     4"
      ]
     },
     "execution_count": 4,
     "metadata": {},
     "output_type": "execute_result"
    }
   ],
   "source": [
    "table07 = t_env.from_elements([(1, 2), (2, 3), (3, 4)], ['id','data'])\n",
    "table07.to_pandas()"
   ]
  },
  {
   "cell_type": "code",
   "execution_count": null,
   "id": "7a914bb6-ffed-4c10-bd3f-00ca68321a74",
   "metadata": {},
   "outputs": [],
   "source": []
  },
  {
   "cell_type": "markdown",
   "id": "fa898003-8962-4425-a2da-75128b6a4663",
   "metadata": {},
   "source": [
    "## 2. %%alink 魔法命令\n",
    "\n",
    "通常加载alink环境需要如下设置：\n",
    "```python\n",
    "from pyalink.alink import *\n",
    "benv, btenv, senv, stenv = useLocalEnv(1, flinkHome=None, config=None)\n",
    "# or\n",
    "benv btenv senv stenv = getMLEnv()\n",
    "```\n",
    "\n",
    "为了方便，我们同样提供一个魔法`%%alink`用于代替执行上述代码，使用方式：\n",
    "```\n",
    "%alink\n",
    "\n",
    "```\n",
    "或者\n",
    "```\n",
    "%%alink\n",
    "[--flinkHome path_to_your_flink_home]\n",
    "[--conf <key>=<value>]\n",
    "[--conf <key>=<value>]\n",
    "...\n",
    "```\n",
    "\n",
    "若无特别需要，通常不需要进行参数设置。\n",
    "**'%alink'** 即可。\n",
    "\n"
   ]
  },
  {
   "cell_type": "code",
   "execution_count": 1,
   "id": "ebd4ab46-548b-403c-888e-7d4e8da6a7db",
   "metadata": {},
   "outputs": [
    {
     "name": "stdout",
     "output_type": "stream",
     "text": [
      "JVM listening on 127.0.0.1:54460\n"
     ]
    },
    {
     "data": {
      "text/html": [
       "<div>\n",
       "<style scoped>\n",
       "    .dataframe tbody tr th:only-of-type {\n",
       "        vertical-align: middle;\n",
       "    }\n",
       "\n",
       "    .dataframe tbody tr th {\n",
       "        vertical-align: top;\n",
       "    }\n",
       "\n",
       "    .dataframe thead th {\n",
       "        text-align: right;\n",
       "    }\n",
       "</style>\n",
       "<table border=\"1\" class=\"dataframe\">\n",
       "  <thead>\n",
       "    <tr style=\"text-align: right;\">\n",
       "      <th></th>\n",
       "      <th>变量名</th>\n",
       "    </tr>\n",
       "  </thead>\n",
       "  <tbody>\n",
       "    <tr>\n",
       "      <th>ExecutionEnvironment</th>\n",
       "      <td>env</td>\n",
       "    </tr>\n",
       "    <tr>\n",
       "      <th>BatchTableEnvironment</th>\n",
       "      <td>btenv</td>\n",
       "    </tr>\n",
       "    <tr>\n",
       "      <th>StreamExecutionEnvironment</th>\n",
       "      <td>senv</td>\n",
       "    </tr>\n",
       "    <tr>\n",
       "      <th>StreamTableEnvironment</th>\n",
       "      <td>stenv</td>\n",
       "    </tr>\n",
       "  </tbody>\n",
       "</table>\n",
       "</div>"
      ],
      "text/plain": [
       "                              变量名\n",
       "ExecutionEnvironment          env\n",
       "BatchTableEnvironment       btenv\n",
       "StreamExecutionEnvironment   senv\n",
       "StreamTableEnvironment      stenv"
      ]
     },
     "metadata": {},
     "output_type": "display_data"
    }
   ],
   "source": [
    "%alink"
   ]
  },
  {
   "cell_type": "code",
   "execution_count": 3,
   "id": "e5a56c30-1a80-48e3-9a0a-321bb9e20c8a",
   "metadata": {},
   "outputs": [
    {
     "data": {
      "text/html": [
       "<div>\n",
       "<style scoped>\n",
       "    .dataframe tbody tr th:only-of-type {\n",
       "        vertical-align: middle;\n",
       "    }\n",
       "\n",
       "    .dataframe tbody tr th {\n",
       "        vertical-align: top;\n",
       "    }\n",
       "\n",
       "    .dataframe thead th {\n",
       "        text-align: right;\n",
       "    }\n",
       "</style>\n",
       "<table border=\"1\" class=\"dataframe\">\n",
       "  <thead>\n",
       "    <tr style=\"text-align: right;\">\n",
       "      <th></th>\n",
       "      <th>变量名</th>\n",
       "    </tr>\n",
       "  </thead>\n",
       "  <tbody>\n",
       "    <tr>\n",
       "      <th>ExecutionEnvironment</th>\n",
       "      <td>env</td>\n",
       "    </tr>\n",
       "    <tr>\n",
       "      <th>BatchTableEnvironment</th>\n",
       "      <td>btenv</td>\n",
       "    </tr>\n",
       "    <tr>\n",
       "      <th>StreamExecutionEnvironment</th>\n",
       "      <td>senv</td>\n",
       "    </tr>\n",
       "    <tr>\n",
       "      <th>StreamTableEnvironment</th>\n",
       "      <td>stenv</td>\n",
       "    </tr>\n",
       "  </tbody>\n",
       "</table>\n",
       "</div>"
      ],
      "text/plain": [
       "                              变量名\n",
       "ExecutionEnvironment          env\n",
       "BatchTableEnvironment       btenv\n",
       "StreamExecutionEnvironment   senv\n",
       "StreamTableEnvironment      stenv"
      ]
     },
     "metadata": {},
     "output_type": "display_data"
    }
   ],
   "source": [
    "%%alink\n",
    "--conf parallelism=1"
   ]
  },
  {
   "cell_type": "code",
   "execution_count": 4,
   "id": "30af125a-96f4-4264-9cdd-4fa482a98d50",
   "metadata": {},
   "outputs": [
    {
     "data": {
      "text/plain": [
       "'DataStream 9493679db68a45d5a974c1143b43832f : ( Updated on 2021-07-09 14:49:07, #items received: 3 )'"
      ]
     },
     "metadata": {},
     "output_type": "display_data"
    },
    {
     "data": {
      "text/html": [
       "<div>\n",
       "<style scoped>\n",
       "    .dataframe tbody tr th:only-of-type {\n",
       "        vertical-align: middle;\n",
       "    }\n",
       "\n",
       "    .dataframe tbody tr th {\n",
       "        vertical-align: top;\n",
       "    }\n",
       "\n",
       "    .dataframe thead th {\n",
       "        text-align: right;\n",
       "    }\n",
       "</style>\n",
       "<table border=\"1\" class=\"dataframe\">\n",
       "  <thead>\n",
       "    <tr style=\"text-align: right;\">\n",
       "      <th></th>\n",
       "      <th>a</th>\n",
       "      <th>b</th>\n",
       "    </tr>\n",
       "  </thead>\n",
       "  <tbody>\n",
       "    <tr>\n",
       "      <th>0</th>\n",
       "      <td>1</td>\n",
       "      <td>2</td>\n",
       "    </tr>\n",
       "    <tr>\n",
       "      <th>1</th>\n",
       "      <td>2</td>\n",
       "      <td>5</td>\n",
       "    </tr>\n",
       "    <tr>\n",
       "      <th>2</th>\n",
       "      <td>3</td>\n",
       "      <td>1</td>\n",
       "    </tr>\n",
       "  </tbody>\n",
       "</table>\n",
       "</div>"
      ],
      "text/plain": [
       "   a  b\n",
       "0  1  2\n",
       "1  2  5\n",
       "2  3  1"
      ]
     },
     "metadata": {},
     "output_type": "display_data"
    }
   ],
   "source": [
    "from pyalink.alink import *\n",
    "t = stenv.from_elements([(1, 2), (2, 5), (3, 1)], ['a', 'b'])\n",
    "source = TableSourceStreamOp(t)\n",
    "source.print()\n",
    "StreamOperator.execute()"
   ]
  }
 ],
 "metadata": {
  "kernelspec": {
   "display_name": "Python 3",
   "language": "python",
   "name": "python3"
  },
  "language_info": {
   "codemirror_mode": {
    "name": "ipython",
    "version": 3
   },
   "file_extension": ".py",
   "mimetype": "text/x-python",
   "name": "python",
   "nbconvert_exporter": "python",
   "pygments_lexer": "ipython3",
   "version": "3.6.13"
  }
 },
 "nbformat": 4,
 "nbformat_minor": 5
}
